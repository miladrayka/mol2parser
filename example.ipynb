{
 "cells": [
  {
   "cell_type": "code",
   "execution_count": 1,
   "id": "306bdc4d",
   "metadata": {},
   "outputs": [],
   "source": [
    "import mol2parser"
   ]
  },
  {
   "cell_type": "code",
   "execution_count": 2,
   "id": "b0e9ed3d",
   "metadata": {},
   "outputs": [],
   "source": [
    "mol2_file = '1a1e_ligand.mol2'"
   ]
  },
  {
   "cell_type": "code",
   "execution_count": 3,
   "id": "6c020d1b",
   "metadata": {},
   "outputs": [],
   "source": [
    "mol2parser = mol2parser.Mol2Parser(\"1a1e_ligand.mol2\")"
   ]
  },
  {
   "cell_type": "code",
   "execution_count": 4,
   "id": "67a04e01",
   "metadata": {},
   "outputs": [],
   "source": [
    "mol2parser.parse()"
   ]
  },
  {
   "cell_type": "code",
   "execution_count": 5,
   "id": "c31cb40f",
   "metadata": {},
   "outputs": [
    {
     "data": {
      "text/plain": [
       "'1a1e_ligand'"
      ]
     },
     "execution_count": 5,
     "metadata": {},
     "output_type": "execute_result"
    }
   ],
   "source": [
    "mol2parser.get_information()"
   ]
  },
  {
   "cell_type": "code",
   "execution_count": 6,
   "id": "66c8d494",
   "metadata": {},
   "outputs": [
    {
     "data": {
      "text/plain": [
       "'GAST_HUCK'"
      ]
     },
     "execution_count": 6,
     "metadata": {},
     "output_type": "execute_result"
    }
   ],
   "source": [
    "mol2parser.get_information(\"charge\")"
   ]
  },
  {
   "cell_type": "code",
   "execution_count": 7,
   "id": "6e5eb148",
   "metadata": {
    "scrolled": true
   },
   "outputs": [
    {
     "data": {
      "text/plain": [
       "['C.2',\n",
       " 'C.3',\n",
       " 'C.3',\n",
       " 'C.2',\n",
       " 'C.3',\n",
       " 'C.ar',\n",
       " 'C.ar',\n",
       " 'C.ar',\n",
       " 'C.ar',\n",
       " 'C.ar',\n",
       " 'C.ar',\n",
       " 'C.3',\n",
       " 'C.2',\n",
       " 'C.3',\n",
       " 'C.3',\n",
       " 'C.2',\n",
       " 'C.3',\n",
       " 'C.3',\n",
       " 'C.3',\n",
       " 'C.3',\n",
       " 'C.3',\n",
       " 'C.3',\n",
       " 'C.3',\n",
       " 'C.3',\n",
       " 'C.3']"
      ]
     },
     "execution_count": 7,
     "metadata": {},
     "output_type": "execute_result"
    }
   ],
   "source": [
    "mol2parser.get_molecule(\"C\", \"atom_type\")"
   ]
  },
  {
   "cell_type": "code",
   "execution_count": 8,
   "id": "5fd9eeca",
   "metadata": {},
   "outputs": [
    {
     "data": {
      "text/plain": [
       "[['43.2930', '-8.1280', '37.5500'],\n",
       " ['43.5190', '-9.0100', '36.3320'],\n",
       " ['41.8750', '-7.5040', '39.3540'],\n",
       " ['42.3970', '-8.1890', '40.5900'],\n",
       " ['40.3910', '-7.2910', '39.3740'],\n",
       " ['40.0200', '-6.4670', '38.1650'],\n",
       " ['39.4330', '-7.0660', '37.0710'],\n",
       " ['40.2030', '-5.0890', '38.1630'],\n",
       " ['39.0230', '-6.2990', '35.9910'],\n",
       " ['39.7950', '-4.3030', '37.0800'],\n",
       " ['39.1970', '-4.9130', '35.9920'],\n",
       " ['42.8210', '-7.9260', '42.9250'],\n",
       " ['41.6490', '-8.4730', '43.7280'],\n",
       " ['43.4630', '-6.7590', '43.6070'],\n",
       " ['44.7130', '-6.2540', '42.9200'],\n",
       " ['45.8500', '-7.2030', '43.1550'],\n",
       " ['43.0100', '-10.2080', '44.8790'],\n",
       " ['40.6720', '-9.7740', '45.5450'],\n",
       " ['43.5030', '-9.7480', '46.2370'],\n",
       " ['42.3970', '-9.9440', '47.2660'],\n",
       " ['41.0210', '-9.3410', '46.9320'],\n",
       " ['40.9160', '-7.8430', '47.1120'],\n",
       " ['41.2000', '-7.5140', '48.5540'],\n",
       " ['41.5460', '-6.0620', '48.7310'],\n",
       " ['40.3430', '-5.2830', '48.3020']]"
      ]
     },
     "execution_count": 8,
     "metadata": {},
     "output_type": "execute_result"
    }
   ],
   "source": [
    "mol2parser.get_molecule(\"C\", \"coords\")"
   ]
  },
  {
   "cell_type": "code",
   "execution_count": 9,
   "id": "0655283d",
   "metadata": {},
   "outputs": [
    {
     "data": {
      "text/plain": [
       "defaultdict(list,\n",
       "            {'1': ['2', '3'],\n",
       "             '5': ['4', '8', '43'],\n",
       "             '6': ['5', '7'],\n",
       "             '8': ['9', '44', '45'],\n",
       "             '9': ['11', '10'],\n",
       "             '10': ['12', '46'],\n",
       "             '12': ['14', '48'],\n",
       "             '14': ['15'],\n",
       "             '13': ['14', '49'],\n",
       "             '11': ['13', '47'],\n",
       "             '15': ['16'],\n",
       "             '16': ['19', '18', '17'],\n",
       "             '22': ['21', '23', '29'],\n",
       "             '21': ['24', '20', '51'],\n",
       "             '24': ['25', '52', '53'],\n",
       "             '25': ['26', '54', '55'],\n",
       "             '26': ['27', '28'],\n",
       "             '29': ['31', '30'],\n",
       "             '30': ['32', '56', '57'],\n",
       "             '32': ['33', '60', '61'],\n",
       "             '34': ['33', '35', '64'],\n",
       "             '31': ['34', '58', '59'],\n",
       "             '35': ['36', '65', '66'],\n",
       "             '36': ['37', '67', '68'],\n",
       "             '37': ['38', '69', '70'],\n",
       "             '4': ['1', '42'],\n",
       "             '20': ['6', '50'],\n",
       "             '3': ['39', '40', '41'],\n",
       "             '33': ['62', '63'],\n",
       "             '38': ['71', '72', '73']})"
      ]
     },
     "execution_count": 9,
     "metadata": {},
     "output_type": "execute_result"
    }
   ],
   "source": [
    "mol2parser.get_bond(\"atoms_bond\")"
   ]
  },
  {
   "cell_type": "code",
   "execution_count": null,
   "id": "e817b5ec",
   "metadata": {},
   "outputs": [],
   "source": []
  }
 ],
 "metadata": {
  "kernelspec": {
   "display_name": "Python 3",
   "language": "python",
   "name": "python3"
  },
  "language_info": {
   "codemirror_mode": {
    "name": "ipython",
    "version": 3
   },
   "file_extension": ".py",
   "mimetype": "text/x-python",
   "name": "python",
   "nbconvert_exporter": "python",
   "pygments_lexer": "ipython3",
   "version": "3.8.8"
  }
 },
 "nbformat": 4,
 "nbformat_minor": 5
}
